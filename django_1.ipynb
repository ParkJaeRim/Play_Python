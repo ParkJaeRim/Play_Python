{
  "nbformat": 4,
  "nbformat_minor": 0,
  "metadata": {
    "colab": {
      "name": "django#1.ipynb",
      "version": "0.3.2",
      "provenance": []
    },
    "kernelspec": {
      "name": "python3",
      "display_name": "Python 3"
    }
  },
  "cells": [
    {
      "cell_type": "markdown",
      "metadata": {
        "id": "zkfrEDoVWRBF",
        "colab_type": "text"
      },
      "source": [
        "# 19/08/30\n",
        "\n",
        "사용 환경 : Windows\n",
        "\n",
        "1. django 설치 \n",
        "> django-admin startproject <프로젝트 이름>\n",
        "\n",
        "\n",
        "<br>\n",
        "2. 어플리케이션 설치\n",
        "> python manage.py startapp <어플리케이션 이름>\n",
        "<br>\n",
        "\n",
        "3. migrate 해주기\n",
        "> python manage.py migrate\n",
        " \n",
        "  migrate란?\n",
        "<br>\n",
        "\n",
        "4. 실행하기\n",
        "> python manage.py runserver 0.0.0.0:7777\n",
        "\n",
        "    실행 후, 브라우저에 localhost:7777 해보기 => 성공 시, 환경 설정 완료\n",
        "<br>\n",
        "\n",
        "5. admin 계정 생성\n",
        "> localhost:7777/admin  *계정 로그인 화면*\n",
        "<br>\n",
        "> python manage.py createsuperuser *#어드민 계정 생성*\n",
        "\n",
        "\n",
        "\n",
        "\n",
        "\n",
        "\n",
        "\n"
      ]
    },
    {
      "cell_type": "code",
      "metadata": {
        "id": "BmUX1K_wWP58",
        "colab_type": "code",
        "colab": {}
      },
      "source": [
        ""
      ],
      "execution_count": 0,
      "outputs": []
    }
  ]
}